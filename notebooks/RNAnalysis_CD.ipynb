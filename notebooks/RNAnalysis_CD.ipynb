{
 "cells": [
  {
   "cell_type": "code",
   "execution_count": null,
   "metadata": {},
   "outputs": [],
   "source": [
    "import pandas as pd\n",
    "import os\n",
    "import plotly"
   ]
  },
  {
   "cell_type": "code",
   "execution_count": null,
   "metadata": {},
   "outputs": [],
   "source": [
    "os.getcwd()"
   ]
  },
  {
   "cell_type": "code",
   "execution_count": null,
   "metadata": {},
   "outputs": [],
   "source": [
    "tbidata=pd.read_csv('C:\\\\Users\\\\dyeca\\\\OneDrive\\\\Documents\\\\capstone\\\\aging_dementia_tbi\\\\data\\\\tbi_data_files.csv')\n",
    "tbidata"
   ]
  },
  {
   "cell_type": "code",
   "execution_count": null,
   "metadata": {},
   "outputs": [],
   "source": [
    "# read in files needed to be downloaded to get counts, create dataframe from these files, takes 20min\n",
    "\n",
    "#file_links=tbidata['gene_level_fpkm_file_link'].to_list()\n",
    "# for link in file_links:\n",
    "#     if link==file_links[0]:\n",
    "#         print(\"http://api.brain-map.org\"+link)\n",
    "#         df_gene_counts=pd.read_csv(\"http://api.brain-map.org\"+link,delimiter='\\\\t')\n",
    "#         df_gene_counts['link']=link\n",
    "#     else:\n",
    "#         file_link=\"http://api.brain-map.org\"+link\n",
    "#         new_file=pd.read_csv(file_link,delimiter='\\\\t')\n",
    "#         new_file['link']=link\n",
    "#         df_gene_counts=pd.concat([df_gene_counts,new_file])\n",
    "\n",
    "\n",
    "# df_gene_counts\n"
   ]
  },
  {
   "cell_type": "code",
   "execution_count": null,
   "metadata": {},
   "outputs": [],
   "source": [
    "#save df as csv as to not repeat process\n",
    "#df_gene_counts.to_csv('C:\\\\Users\\\\dyeca\\\\OneDrive\\\\Documents\\\\capstone\\\\aging_dementia_tbi\\\\data\\\\df_gene_counts.csv')"
   ]
  },
  {
   "cell_type": "code",
   "execution_count": null,
   "metadata": {},
   "outputs": [],
   "source": [
    "df_gene_counts=pd.read_csv('C:\\\\Users\\\\dyeca\\\\OneDrive\\\\Documents\\\\capstone\\\\aging_dementia_tbi\\\\data\\\\df_gene_counts.csv')\n"
   ]
  },
  {
   "cell_type": "code",
   "execution_count": null,
   "metadata": {},
   "outputs": [],
   "source": [
    "df_gene_counts[df_gene_counts['gene_id']==3507]"
   ]
  },
  {
   "cell_type": "code",
   "execution_count": null,
   "metadata": {},
   "outputs": [],
   "source": [
    "genes=pd.read_csv('C:\\\\Users\\\\dyeca\\\\OneDrive\\\\Documents\\\\capstone\\\\aging_dementia_tbi\\\\data\\\\gene_expression_matrix_2016-03-03\\\\rows-genes.csv')\n"
   ]
  },
  {
   "cell_type": "code",
   "execution_count": null,
   "metadata": {},
   "outputs": [],
   "source": [
    "merge_table=df_gene_counts.merge(tbidata,left_on='link',right_on='gene_level_fpkm_file_link')"
   ]
  },
  {
   "cell_type": "code",
   "execution_count": null,
   "metadata": {},
   "outputs": [],
   "source": [
    "merge_table.columns"
   ]
  },
  {
   "cell_type": "code",
   "execution_count": null,
   "metadata": {},
   "outputs": [],
   "source": [
    "genes=pd.read_csv('C:\\\\Users\\\\dyeca\\\\OneDrive\\\\Documents\\\\capstone\\\\aging_dementia_tbi\\\\data\\\\gene_expression_matrix_2016-03-03\\\\rows-genes.csv')\n",
    "genes\n",
    "mapping_dict_gene=dict(zip(genes['gene_entrez_id'],genes['gene_id']))\n",
    "mapping_dict_gene"
   ]
  },
  {
   "cell_type": "code",
   "execution_count": null,
   "metadata": {},
   "outputs": [],
   "source": [
    "total_counts=merge_table[['expected_count','TPM','FPKM','donor_id', 'donor_name',\n",
    "       'specimen_id', 'specimen_name','structure_id', 'structure_acronym', 'structure_name',\n",
    "       'rnaseq_profile_id','gene_id']]\n",
    "total_counts['gene_id_mapped']=total_counts['gene_id'].map(mapping_dict_gene)\n",
    "total_counts"
   ]
  },
  {
   "cell_type": "code",
   "execution_count": null,
   "metadata": {},
   "outputs": [],
   "source": [
    "total_counts[total_counts['gene_id_mapped'].isna()]"
   ]
  },
  {
   "cell_type": "code",
   "execution_count": null,
   "metadata": {},
   "outputs": [],
   "source": [
    "unmapped_genes=list(total_counts[total_counts['gene_id_mapped'].isna()]['gene_id'].unique())"
   ]
  },
  {
   "cell_type": "code",
   "execution_count": null,
   "metadata": {},
   "outputs": [],
   "source": [
    "#total_counts=total_counts.drop(total_counts['gene_id'].isin(unmapped_genes))"
   ]
  },
  {
   "cell_type": "code",
   "execution_count": null,
   "metadata": {},
   "outputs": [],
   "source": [
    "#ct_matrix=total_counts[['gene_id_mapped','rnaseq_profile_id','expected_count']].pivot(index='gene_id_mapped',columns='rnaseq_profile_id', values='expected_count',aggfunc='count')\n",
    "#ct_matrix"
   ]
  }
 ],
 "metadata": {
  "kernelspec": {
   "display_name": "base",
   "language": "python",
   "name": "python3"
  },
  "language_info": {
   "codemirror_mode": {
    "name": "ipython",
    "version": 3
   },
   "file_extension": ".py",
   "mimetype": "text/x-python",
   "name": "python",
   "nbconvert_exporter": "python",
   "pygments_lexer": "ipython3",
   "version": "3.9.13"
  }
 },
 "nbformat": 4,
 "nbformat_minor": 2
}
